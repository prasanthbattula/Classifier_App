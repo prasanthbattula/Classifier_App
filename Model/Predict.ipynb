{
 "cells": [
  {
   "cell_type": "markdown",
   "metadata": {},
   "source": [
    "## Import libraries"
   ]
  },
  {
   "cell_type": "code",
   "execution_count": 1,
   "metadata": {
    "colab": {},
    "colab_type": "code",
    "executionInfo": {
     "elapsed": 6110,
     "status": "ok",
     "timestamp": 1600856220045,
     "user": {
      "displayName": "PRASANTH BATTULA",
      "photoUrl": "https://lh3.googleusercontent.com/a-/AOh14GghTWEhEHBlOXjA4KhHuYud3OUFi5-ktgV9Bs91nlI=s64",
      "userId": "10508608682258355048"
     },
     "user_tz": -330
    },
    "id": "CXmM9JFSHR9v"
   },
   "outputs": [],
   "source": [
    "# Importing the libraries\n",
    "import numpy as np\n",
    "import pandas as pd\n",
    "import matplotlib.pyplot as plt\n",
    "\n",
    "# PyTorch libraries\n",
    "import torch\n",
    "from torchvision import transforms\n",
    "from PIL import Image\n",
    "from torch.autograd import Variable\n",
    "from torch.nn import Linear, ReLU, CrossEntropyLoss, Sequential, Conv2d, MaxPool2d, Module, Softmax, BatchNorm2d, Dropout\n",
    "from torch.optim import Adam, SGD"
   ]
  },
  {
   "cell_type": "markdown",
   "metadata": {},
   "source": [
    "## Define Model"
   ]
  },
  {
   "cell_type": "code",
   "execution_count": 2,
   "metadata": {
    "colab": {},
    "colab_type": "code",
    "executionInfo": {
     "elapsed": 1019,
     "status": "ok",
     "timestamp": 1600856291415,
     "user": {
      "displayName": "PRASANTH BATTULA",
      "photoUrl": "https://lh3.googleusercontent.com/a-/AOh14GghTWEhEHBlOXjA4KhHuYud3OUFi5-ktgV9Bs91nlI=s64",
      "userId": "10508608682258355048"
     },
     "user_tz": -330
    },
    "id": "VRBUaucfHR-0"
   },
   "outputs": [],
   "source": [
    "class Net(Module):\n",
    "    def __init__(self):\n",
    "        super(Net, self).__init__()\n",
    "        \n",
    "        self.cnn_layers = Sequential(\n",
    "            # defining a 2d convolutions layer \n",
    "            Conv2d(1, 4, kernel_size=3, stride=1, padding=1),\n",
    "            BatchNorm2d(4),\n",
    "            ReLU(inplace=True),\n",
    "            MaxPool2d(kernel_size=2, stride=2),\n",
    "            Dropout(0.2),\n",
    "            # defining another 2d convolutional layer\n",
    "            Conv2d(4, 4, kernel_size=3, stride=1, padding=1),\n",
    "            BatchNorm2d(4),\n",
    "            ReLU(inplace=True),\n",
    "            MaxPool2d(kernel_size=2, stride=2),\n",
    "            Dropout(0.2)\n",
    "\n",
    "        )\n",
    "        \n",
    "        self.linear_layers = Sequential(\n",
    "            Linear(4*7*7, 10)\n",
    "        )\n",
    "    \n",
    "    # defining the forward pass\n",
    "    def forward(self, x):\n",
    "        x = self.cnn_layers(x)\n",
    "        x = x.view(x.size(0), -1)\n",
    "        x = self.linear_layers(x)\n",
    "        return x"
   ]
  },
  {
   "cell_type": "markdown",
   "metadata": {},
   "source": [
    "## Load already trained model"
   ]
  },
  {
   "cell_type": "code",
   "execution_count": 4,
   "metadata": {},
   "outputs": [
    {
     "data": {
      "text/plain": [
       "<All keys matched successfully>"
      ]
     },
     "execution_count": 4,
     "metadata": {},
     "output_type": "execute_result"
    }
   ],
   "source": [
    "model = Net()\n",
    "PATH = 'saved_model.pt'\n",
    "model.load_state_dict(torch.load(PATH, map_location=torch.device('cpu')))"
   ]
  },
  {
   "cell_type": "markdown",
   "metadata": {},
   "source": [
    "## Predict"
   ]
  },
  {
   "cell_type": "code",
   "execution_count": 5,
   "metadata": {},
   "outputs": [],
   "source": [
    "def predict_label(img_path):\n",
    "    \n",
    "    # categories\n",
    "    labels = {\"0\":\"T-shirt/top\",\n",
    "    \"1\":\"Trouser\",\n",
    "    \"2\":\"Pullover\",\n",
    "    \"3\":\"Dress\",\n",
    "    \"4\":\"Coat\",\n",
    "    \"5\":\"Sandal\",\n",
    "    \"6\":\"Shirt\",\n",
    "    \"7\":\"Sneaker\",\n",
    "    \"8\":\"Bag\",\n",
    "    \"9\":\"Ankle boot\"}\n",
    "    \n",
    "    # preprocess image to resize image to 28 X 28 pixels and convert to a 2D tensor\n",
    "    p = transforms.Compose([transforms.Scale((28,28))])\n",
    "    img = Image.open(img_path)\n",
    "    img = p(img)\n",
    "    \n",
    "    pre_process = transforms.Compose(\n",
    "    [transforms.Grayscale(num_output_channels=1), transforms.ToTensor()])\n",
    "    \n",
    "    img = pre_process(img)\n",
    "    img = torch.reshape(img, (list(img.shape)[1], list(img.shape)[2]))\n",
    "    \n",
    "    # convert 2D tensor to 4D tensor\n",
    "    img_ten = torch.reshape(img, [1,1,28,28])\n",
    "    \n",
    "    with torch.no_grad():\n",
    "      output = model(img_ten.float())\n",
    "\n",
    "    softmax = torch.exp(output)\n",
    "    prob = list(softmax.numpy())\n",
    "    prediction = np.argmax(prob, axis=1)\n",
    "    print(prediction)\n",
    "    print(labels[str(prediction[0])])\n",
    "    plt.imshow(img)\n",
    "    plt.show()\n",
    "    \n",
    "    return labels[str(prediction[0])]"
   ]
  },
  {
   "cell_type": "code",
   "execution_count": 6,
   "metadata": {
    "scrolled": true
   },
   "outputs": [
    {
     "name": "stdout",
     "output_type": "stream",
     "text": [
      "[8]\n",
      "Bag\n"
     ]
    },
    {
     "name": "stderr",
     "output_type": "stream",
     "text": [
      "/home/prasanth/anaconda3/lib/python3.8/site-packages/torchvision/transforms/transforms.py:256: UserWarning: The use of the transforms.Scale transform is deprecated, please use transforms.Resize instead.\n",
      "  warnings.warn(\"The use of the transforms.Scale transform is deprecated, \" +\n"
     ]
    },
    {
     "data": {
      "image/png": "[encoded data removed]",
      "text/plain": [
       "<Figure size 432x288 with 1 Axes>"
      ]
     },
     "metadata": {
      "needs_background": "light"
     },
     "output_type": "display_data"
    }
   ],
   "source": [
    "labe = predict_label('test.jpeg')"
   ]
  },
  {
   "cell_type": "code",
   "execution_count": 7,
   "metadata": {},
   "outputs": [
    {
     "data": {
      "text/plain": [
       "'Bag'"
      ]
     },
     "execution_count": 7,
     "metadata": {},
     "output_type": "execute_result"
    }
   ],
   "source": [
    "labe"
   ]
  },
  {
   "cell_type": "code",
   "execution_count": null,
   "metadata": {},
   "outputs": [],
   "source": []
  }
 ],
 "metadata": {
  "accelerator": "GPU",
  "colab": {
   "collapsed_sections": [],
   "name": "Model.ipynb",
   "provenance": []
  },
  "kernelspec": {
   "display_name": "Python 3",
   "language": "python",
   "name": "python3"
  },
  "language_info": {
   "codemirror_mode": {
    "name": "ipython",
    "version": 3
   },
   "file_extension": ".py",
   "mimetype": "text/x-python",
   "name": "python",
   "nbconvert_exporter": "python",
   "pygments_lexer": "ipython3",
   "version": "3.8.3"
  }
 },
 "nbformat": 4,
 "nbformat_minor": 1
}
