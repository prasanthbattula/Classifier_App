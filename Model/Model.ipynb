{
 "cells": [
  {
   "cell_type": "markdown",
   "metadata": {},
   "source": [
    "## Libraries"
   ]
  },
  {
   "cell_type": "markdown",
   "metadata": {},
   "source": [
    "Import all the required libraries"
   ]
  },
  {
   "cell_type": "code",
   "execution_count": 12,
   "metadata": {
    "colab": {},
    "colab_type": "code",
    "id": "CXmM9JFSHR9v"
   },
   "outputs": [],
   "source": [
    "# Importing the libraries\n",
    "import numpy as np\n",
    "import pandas as pd\n",
    "\n",
    "# for visualization\n",
    "import matplotlib.pyplot as plt\n",
    "\n",
    "# calculate training time\n",
    "import time\n",
    "\n",
    "# for creation of validation set\n",
    "from sklearn.model_selection import train_test_split\n",
    "\n",
    "# for evaluating the model\n",
    "from sklearn.metrics import accuracy_score\n",
    "from tqdm import tqdm\n",
    "\n",
    "# PyTorch libraries\n",
    "import torch\n",
    "from torch.autograd import Variable\n",
    "from torch.nn import Linear, ReLU, CrossEntropyLoss, Sequential, Conv2d, MaxPool2d, Module, Softmax, BatchNorm2d, Dropout\n",
    "from torch.optim import Adam, SGD"
   ]
  },
  {
   "cell_type": "code",
   "execution_count": 13,
   "metadata": {
    "colab": {
     "base_uri": "https://localhost:8080/",
     "height": 224
    },
    "colab_type": "code",
    "id": "NA7wBsegIBkY",
    "outputId": "0992f0bf-9d0c-4eb4-d478-83f8ba71aed3",
    "scrolled": true
   },
   "outputs": [
    {
     "name": "stdout",
     "output_type": "stream",
     "text": [
      "Requirement already satisfied: idx2numpy in /home/prasanth/anaconda3/lib/python3.8/site-packages (1.2.2)\r\n",
      "Requirement already satisfied: numpy in /home/prasanth/anaconda3/lib/python3.8/site-packages (from idx2numpy) (1.18.5)\r\n",
      "Requirement already satisfied: six in /home/prasanth/anaconda3/lib/python3.8/site-packages (from idx2numpy) (1.15.0)\r\n"
     ]
    }
   ],
   "source": [
    "# for reading ubyte file\n",
    "!pip install idx2numpy\n",
    "import idx2numpy"
   ]
  },
  {
   "cell_type": "markdown",
   "metadata": {},
   "source": [
    "## Read data"
   ]
  },
  {
   "cell_type": "code",
   "execution_count": 15,
   "metadata": {
    "colab": {},
    "colab_type": "code",
    "id": "WZZZdephHR94"
   },
   "outputs": [],
   "source": [
    "# import the data\n",
    "\n",
    "trainimagefile = 'Data/train_images'\n",
    "trainlabelfile = 'Data/train_labels'\n",
    "testimagefile = 'Data/test_images'\n",
    "testlabelfile = 'Data/test_labels'\n",
    "\n",
    "X_train = idx2numpy.convert_from_file(trainimagefile)\n",
    "y_train = idx2numpy.convert_from_file(trainlabelfile)\n",
    "X_test = idx2numpy.convert_from_file(testimagefile)\n",
    "y_test = idx2numpy.convert_from_file(testlabelfile)"
   ]
  },
  {
   "cell_type": "code",
   "execution_count": 16,
   "metadata": {
    "colab": {},
    "colab_type": "code",
    "id": "zMJ0dc6RHR99"
   },
   "outputs": [],
   "source": [
    "labels = {\"0\":\"T-shirt/top\",\n",
    "\"1\":\"Trouser\",\n",
    "\"2\":\"Pullover\",\n",
    "\"3\":\"Dress\",\n",
    "\"4\":\"Coat\",\n",
    "\"5\":\"Sandal\",\n",
    "\"6\":\"Shirt\",\n",
    "\"7\":\"Sneaker\",\n",
    "\"8\":\"Bag\",\n",
    "\"9\":\"Ankle boot\"}"
   ]
  },
  {
   "cell_type": "code",
   "execution_count": 22,
   "metadata": {
    "colab": {
     "base_uri": "https://localhost:8080/",
     "height": 282
    },
    "colab_type": "code",
    "id": "oLWhJQjgHR-C",
    "outputId": "3b5ec955-1822-41b8-b43d-51ff7be8368e",
    "scrolled": true
   },
   "outputs": [
    {
     "name": "stdout",
     "output_type": "stream",
     "text": [
      "Sneaker\n"
     ]
    },
    {
     "data": {
      "image/png": "[encoded data removed]",
      "text/plain": [
       "<Figure size 432x288 with 1 Axes>"
      ]
     },
     "metadata": {
      "needs_background": "light"
     },
     "output_type": "display_data"
    }
   ],
   "source": [
    "# display a image in trainset\n",
    "id = 41\n",
    "plt.imshow(X_train[id], cmap=plt.cm.binary)\n",
    "print(labels[str(y_train[id])])"
   ]
  },
  {
   "cell_type": "markdown",
   "metadata": {},
   "source": [
    "## Spliting the data"
   ]
  },
  {
   "cell_type": "code",
   "execution_count": null,
   "metadata": {
    "colab": {},
    "colab_type": "code",
    "id": "yXB87D28HR-X"
   },
   "outputs": [],
   "source": [
    "# create validation set\n",
    "X_train, X_val, y_train, y_val = train_test_split(X_train, y_train, test_size=0.1, random_state=42)"
   ]
  },
  {
   "cell_type": "code",
   "execution_count": null,
   "metadata": {
    "colab": {
     "base_uri": "https://localhost:8080/",
     "height": 34
    },
    "colab_type": "code",
    "id": "FTKdW4RyHR-d",
    "outputId": "4d3c4fd6-985a-42f1-820f-68f0105e0311"
   },
   "outputs": [
    {
     "data": {
      "text/plain": [
       "(54000, 28, 28)"
      ]
     },
     "execution_count": 8,
     "metadata": {
      "tags": []
     },
     "output_type": "execute_result"
    }
   ],
   "source": [
    "# Shape of train (images) set\n",
    "X_train.shape"
   ]
  },
  {
   "cell_type": "code",
   "execution_count": null,
   "metadata": {
    "colab": {
     "base_uri": "https://localhost:8080/",
     "height": 34
    },
    "colab_type": "code",
    "id": "LGojpbL4HR-l",
    "outputId": "8d2d6c66-39b2-445b-daa4-0fa99deda412",
    "scrolled": true
   },
   "outputs": [
    {
     "data": {
      "text/plain": [
       "(6000, 28, 28)"
      ]
     },
     "execution_count": 9,
     "metadata": {
      "tags": []
     },
     "output_type": "execute_result"
    }
   ],
   "source": [
    "# Shape of validation (images) set\n",
    "X_val.shape"
   ]
  },
  {
   "cell_type": "markdown",
   "metadata": {},
   "source": [
    "## Create Tensors"
   ]
  },
  {
   "cell_type": "code",
   "execution_count": null,
   "metadata": {
    "colab": {
     "base_uri": "https://localhost:8080/",
     "height": 34
    },
    "colab_type": "code",
    "id": "xyB8f3cdHR-q",
    "outputId": "39c17b24-0d09-4142-86f5-d4c2f31b97c3"
   },
   "outputs": [
    {
     "data": {
      "text/plain": [
       "(torch.Size([54000, 1, 28, 28]), torch.Size([54000]))"
      ]
     },
     "execution_count": 10,
     "metadata": {
      "tags": []
     },
     "output_type": "execute_result"
    }
   ],
   "source": [
    "# reshape train set of images and create tensor from numpy array\n",
    "X_train = X_train.reshape(54000, 1, 28, 28)\n",
    "X_train = torch.from_numpy(X_train)\n",
    "\n",
    "# create tensor for train set of labels\n",
    "y_train = y_train.astype(int)\n",
    "y_train = torch.from_numpy(y_train)\n",
    "\n",
    "# sizes of tensors\n",
    "X_train.shape, y_train.shape"
   ]
  },
  {
   "cell_type": "code",
   "execution_count": null,
   "metadata": {
    "colab": {
     "base_uri": "https://localhost:8080/",
     "height": 34
    },
    "colab_type": "code",
    "id": "ScO5L6F1HR-w",
    "outputId": "ade20a27-2bb2-48b2-bbd7-46abd0720b76",
    "scrolled": true
   },
   "outputs": [
    {
     "data": {
      "text/plain": [
       "(torch.Size([6000, 1, 28, 28]), torch.Size([6000]))"
      ]
     },
     "execution_count": 11,
     "metadata": {
      "tags": []
     },
     "output_type": "execute_result"
    }
   ],
   "source": [
    "# reshape validation set of images and create tensor from numpy array\n",
    "X_val = X_val.reshape(6000, 1, 28, 28)\n",
    "X_val = torch.from_numpy(X_val)\n",
    "\n",
    "# create tensor for validation set of labels\n",
    "y_val = y_val.astype(int)\n",
    "y_val = torch.from_numpy(y_val)\n",
    "\n",
    "# sizes of tensors\n",
    "X_val.shape, y_val.shape"
   ]
  },
  {
   "cell_type": "markdown",
   "metadata": {},
   "source": [
    "## Define Model"
   ]
  },
  {
   "cell_type": "code",
   "execution_count": null,
   "metadata": {
    "colab": {},
    "colab_type": "code",
    "id": "VRBUaucfHR-0"
   },
   "outputs": [],
   "source": [
    "class Net(Module):\n",
    "    def __init__(self):\n",
    "        super(Net, self).__init__()\n",
    "        \n",
    "        self.cnn_layers = Sequential(\n",
    "            # defining a 2d convolutions layer \n",
    "            Conv2d(1, 4, kernel_size=3, stride=1, padding=1),\n",
    "            BatchNorm2d(4),\n",
    "            ReLU(inplace=True),\n",
    "            MaxPool2d(kernel_size=2, stride=2),\n",
    "            # defining another 2d convolutional layer\n",
    "            Conv2d(4, 4, kernel_size=3, stride=1, padding=1),\n",
    "            BatchNorm2d(4),\n",
    "            ReLU(inplace=True),\n",
    "            MaxPool2d(kernel_size=2, stride=2),\n",
    "\n",
    "        )\n",
    "        \n",
    "        self.linear_layers = Sequential(\n",
    "            Linear(4*7*7, 10)\n",
    "        )\n",
    "    \n",
    "    # defining the forward pass\n",
    "    def forward(self, x):\n",
    "        x = self.cnn_layers(x)\n",
    "        x = x.view(x.size(0), -1)\n",
    "        x = self.linear_layers(x)\n",
    "        return x"
   ]
  },
  {
   "cell_type": "code",
   "execution_count": null,
   "metadata": {
    "colab": {
     "base_uri": "https://localhost:8080/",
     "height": 272
    },
    "colab_type": "code",
    "id": "Zvvt2Vd1HR-5",
    "outputId": "108cf115-609d-45e7-da63-af0abfaac127",
    "scrolled": true
   },
   "outputs": [
    {
     "name": "stdout",
     "output_type": "stream",
     "text": [
      "Net(\n",
      "  (cnn_layers): Sequential(\n",
      "    (0): Conv2d(1, 4, kernel_size=(3, 3), stride=(1, 1), padding=(1, 1))\n",
      "    (1): BatchNorm2d(4, eps=1e-05, momentum=0.1, affine=True, track_running_stats=True)\n",
      "    (2): ReLU(inplace=True)\n",
      "    (3): MaxPool2d(kernel_size=2, stride=2, padding=0, dilation=1, ceil_mode=False)\n",
      "    (4): Conv2d(4, 4, kernel_size=(3, 3), stride=(1, 1), padding=(1, 1))\n",
      "    (5): BatchNorm2d(4, eps=1e-05, momentum=0.1, affine=True, track_running_stats=True)\n",
      "    (6): ReLU(inplace=True)\n",
      "    (7): MaxPool2d(kernel_size=2, stride=2, padding=0, dilation=1, ceil_mode=False)\n",
      "  )\n",
      "  (linear_layers): Sequential(\n",
      "    (0): Linear(in_features=196, out_features=10, bias=True)\n",
      "  )\n",
      ")\n"
     ]
    }
   ],
   "source": [
    "# defining the model\n",
    "model = Net()\n",
    "\n",
    "# defining the optimizer\n",
    "optimizer = Adam(model.parameters(), lr=0.01)\n",
    "\n",
    "# defining the loss function\n",
    "criterion = CrossEntropyLoss()\n",
    "\n",
    "# checking if CUDA device is availabel\n",
    "if torch.cuda.is_available():\n",
    "  model = model.cuda()\n",
    "  criterion = criterion.cuda()\n",
    "\n",
    "print(model)"
   ]
  },
  {
   "cell_type": "markdown",
   "metadata": {},
   "source": [
    "## Parameters before training"
   ]
  },
  {
   "cell_type": "code",
   "execution_count": null,
   "metadata": {
    "colab": {
     "base_uri": "https://localhost:8080/",
     "height": 377
    },
    "colab_type": "code",
    "id": "LshVv2FudhDD",
    "outputId": "58879e49-317f-4dd9-adfd-b96c7946ba67"
   },
   "outputs": [
    {
     "name": "stdout",
     "output_type": "stream",
     "text": [
      "Model's state_dict:\n",
      "cnn_layers.0.weight \t torch.Size([4, 1, 3, 3])\n",
      "cnn_layers.0.bias \t torch.Size([4])\n",
      "cnn_layers.1.weight \t torch.Size([4])\n",
      "cnn_layers.1.bias \t torch.Size([4])\n",
      "cnn_layers.1.running_mean \t torch.Size([4])\n",
      "cnn_layers.1.running_var \t torch.Size([4])\n",
      "cnn_layers.1.num_batches_tracked \t torch.Size([])\n",
      "cnn_layers.4.weight \t torch.Size([4, 4, 3, 3])\n",
      "cnn_layers.4.bias \t torch.Size([4])\n",
      "cnn_layers.5.weight \t torch.Size([4])\n",
      "cnn_layers.5.bias \t torch.Size([4])\n",
      "cnn_layers.5.running_mean \t torch.Size([4])\n",
      "cnn_layers.5.running_var \t torch.Size([4])\n",
      "cnn_layers.5.num_batches_tracked \t torch.Size([])\n",
      "linear_layers.0.weight \t torch.Size([10, 196])\n",
      "linear_layers.0.bias \t torch.Size([10])\n",
      "Optimizer's state_dict:\n",
      "state \t {}\n",
      "param_groups \t [{'lr': 0.01, 'betas': (0.9, 0.999), 'eps': 1e-08, 'weight_decay': 0, 'amsgrad': False, 'params': [0, 1, 2, 3, 4, 5, 6, 7, 8, 9]}]\n"
     ]
    }
   ],
   "source": [
    "print(\"Model's state_dict:\")\n",
    "for param_tensor in model.state_dict():\n",
    "    print(param_tensor, \"\\t\", model.state_dict()[param_tensor].size())\n",
    "\n",
    "# Print optimizer's state_dict\n",
    "print(\"Optimizer's state_dict:\")\n",
    "for var_name in optimizer.state_dict():\n",
    "    print(var_name, \"\\t\", optimizer.state_dict()[var_name])"
   ]
  },
  {
   "cell_type": "markdown",
   "metadata": {},
   "source": [
    "## Train the model"
   ]
  },
  {
   "cell_type": "code",
   "execution_count": null,
   "metadata": {
    "colab": {
     "base_uri": "https://localhost:8080/",
     "height": 1000
    },
    "colab_type": "code",
    "id": "ScTCYYAMmuYa",
    "outputId": "cc30e113-c21a-47f8-c9fc-817d2d1d72b6"
   },
   "outputs": [
    {
     "name": "stderr",
     "output_type": "stream",
     "text": [
      "100%|██████████| 844/844 [00:02<00:00, 297.05it/s]\n",
      "  4%|▍         | 34/844 [00:00<00:02, 338.37it/s]"
     ]
    },
    {
     "name": "stdout",
     "output_type": "stream",
     "text": [
      "epoch: \t 1 \t training loss: \t 0.47793066563411346\n"
     ]
    },
    {
     "name": "stderr",
     "output_type": "stream",
     "text": [
      "100%|██████████| 844/844 [00:02<00:00, 319.43it/s]\n",
      "  4%|▍         | 33/844 [00:00<00:02, 323.61it/s]"
     ]
    },
    {
     "name": "stdout",
     "output_type": "stream",
     "text": [
      "epoch: \t 2 \t training loss: \t 0.38290867853856764\n"
     ]
    },
    {
     "name": "stderr",
     "output_type": "stream",
     "text": [
      "100%|██████████| 844/844 [00:02<00:00, 323.30it/s]\n",
      "  4%|▍         | 34/844 [00:00<00:02, 337.81it/s]"
     ]
    },
    {
     "name": "stdout",
     "output_type": "stream",
     "text": [
      "epoch: \t 3 \t training loss: \t 0.36301656680013894\n"
     ]
    },
    {
     "name": "stderr",
     "output_type": "stream",
     "text": [
      "100%|██████████| 844/844 [00:02<00:00, 322.22it/s]\n",
      "  4%|▍         | 33/844 [00:00<00:02, 327.14it/s]"
     ]
    },
    {
     "name": "stdout",
     "output_type": "stream",
     "text": [
      "epoch: \t 4 \t training loss: \t 0.3544598456595746\n"
     ]
    },
    {
     "name": "stderr",
     "output_type": "stream",
     "text": [
      "100%|██████████| 844/844 [00:02<00:00, 325.57it/s]\n",
      "  4%|▍         | 33/844 [00:00<00:02, 329.53it/s]"
     ]
    },
    {
     "name": "stdout",
     "output_type": "stream",
     "text": [
      "epoch: \t 5 \t training loss: \t 0.34601030029992075\n"
     ]
    },
    {
     "name": "stderr",
     "output_type": "stream",
     "text": [
      "100%|██████████| 844/844 [00:02<00:00, 325.02it/s]\n",
      "  4%|▎         | 31/844 [00:00<00:02, 309.48it/s]"
     ]
    },
    {
     "name": "stdout",
     "output_type": "stream",
     "text": [
      "epoch: \t 6 \t training loss: \t 0.33918832261909804\n"
     ]
    },
    {
     "name": "stderr",
     "output_type": "stream",
     "text": [
      "100%|██████████| 844/844 [00:02<00:00, 323.96it/s]\n",
      "  4%|▍         | 34/844 [00:00<00:02, 333.35it/s]"
     ]
    },
    {
     "name": "stdout",
     "output_type": "stream",
     "text": [
      "epoch: \t 7 \t training loss: \t 0.335373666993744\n"
     ]
    },
    {
     "name": "stderr",
     "output_type": "stream",
     "text": [
      "100%|██████████| 844/844 [00:02<00:00, 320.22it/s]\n",
      "  4%|▍         | 33/844 [00:00<00:02, 321.99it/s]"
     ]
    },
    {
     "name": "stdout",
     "output_type": "stream",
     "text": [
      "epoch: \t 8 \t training loss: \t 0.3315799272491186\n"
     ]
    },
    {
     "name": "stderr",
     "output_type": "stream",
     "text": [
      "100%|██████████| 844/844 [00:02<00:00, 326.05it/s]\n",
      "  4%|▎         | 30/844 [00:00<00:02, 298.34it/s]"
     ]
    },
    {
     "name": "stdout",
     "output_type": "stream",
     "text": [
      "epoch: \t 9 \t training loss: \t 0.33024761336745245\n"
     ]
    },
    {
     "name": "stderr",
     "output_type": "stream",
     "text": [
      "100%|██████████| 844/844 [00:02<00:00, 316.72it/s]\n",
      "  4%|▍         | 33/844 [00:00<00:02, 326.71it/s]"
     ]
    },
    {
     "name": "stdout",
     "output_type": "stream",
     "text": [
      "epoch: \t 10 \t training loss: \t 0.3251647226318223\n"
     ]
    },
    {
     "name": "stderr",
     "output_type": "stream",
     "text": [
      "100%|██████████| 844/844 [00:02<00:00, 324.49it/s]\n",
      "  4%|▍         | 33/844 [00:00<00:02, 323.72it/s]"
     ]
    },
    {
     "name": "stdout",
     "output_type": "stream",
     "text": [
      "epoch: \t 11 \t training loss: \t 0.3245163173789944\n"
     ]
    },
    {
     "name": "stderr",
     "output_type": "stream",
     "text": [
      "100%|██████████| 844/844 [00:02<00:00, 318.39it/s]\n",
      "  4%|▍         | 33/844 [00:00<00:02, 329.49it/s]"
     ]
    },
    {
     "name": "stdout",
     "output_type": "stream",
     "text": [
      "epoch: \t 12 \t training loss: \t 0.32223776668769205\n"
     ]
    },
    {
     "name": "stderr",
     "output_type": "stream",
     "text": [
      "100%|██████████| 844/844 [00:02<00:00, 322.35it/s]\n",
      "  4%|▎         | 31/844 [00:00<00:02, 305.16it/s]"
     ]
    },
    {
     "name": "stdout",
     "output_type": "stream",
     "text": [
      "epoch: \t 13 \t training loss: \t 0.3190765367706099\n"
     ]
    },
    {
     "name": "stderr",
     "output_type": "stream",
     "text": [
      "100%|██████████| 844/844 [00:02<00:00, 320.32it/s]\n",
      "  4%|▍         | 34/844 [00:00<00:02, 337.39it/s]"
     ]
    },
    {
     "name": "stdout",
     "output_type": "stream",
     "text": [
      "epoch: \t 14 \t training loss: \t 0.31828930647381676\n"
     ]
    },
    {
     "name": "stderr",
     "output_type": "stream",
     "text": [
      "100%|██████████| 844/844 [00:02<00:00, 325.88it/s]\n",
      "  4%|▍         | 34/844 [00:00<00:02, 333.97it/s]"
     ]
    },
    {
     "name": "stdout",
     "output_type": "stream",
     "text": [
      "epoch: \t 15 \t training loss: \t 0.3172174651546501\n"
     ]
    },
    {
     "name": "stderr",
     "output_type": "stream",
     "text": [
      "100%|██████████| 844/844 [00:02<00:00, 323.47it/s]\n",
      "  4%|▍         | 34/844 [00:00<00:02, 336.79it/s]"
     ]
    },
    {
     "name": "stdout",
     "output_type": "stream",
     "text": [
      "epoch: \t 16 \t training loss: \t 0.31379925163895317\n"
     ]
    },
    {
     "name": "stderr",
     "output_type": "stream",
     "text": [
      "100%|██████████| 844/844 [00:02<00:00, 324.21it/s]\n",
      "  4%|▍         | 34/844 [00:00<00:02, 331.32it/s]"
     ]
    },
    {
     "name": "stdout",
     "output_type": "stream",
     "text": [
      "epoch: \t 17 \t training loss: \t 0.31204000421715855\n"
     ]
    },
    {
     "name": "stderr",
     "output_type": "stream",
     "text": [
      "100%|██████████| 844/844 [00:02<00:00, 325.63it/s]\n",
      "  4%|▍         | 33/844 [00:00<00:02, 324.90it/s]"
     ]
    },
    {
     "name": "stdout",
     "output_type": "stream",
     "text": [
      "epoch: \t 18 \t training loss: \t 0.3146592764475193\n"
     ]
    },
    {
     "name": "stderr",
     "output_type": "stream",
     "text": [
      "100%|██████████| 844/844 [00:02<00:00, 325.05it/s]\n",
      "  4%|▍         | 34/844 [00:00<00:02, 335.47it/s]"
     ]
    },
    {
     "name": "stdout",
     "output_type": "stream",
     "text": [
      "epoch: \t 19 \t training loss: \t 0.312923284918423\n"
     ]
    },
    {
     "name": "stderr",
     "output_type": "stream",
     "text": [
      "100%|██████████| 844/844 [00:02<00:00, 323.20it/s]\n",
      "  4%|▍         | 34/844 [00:00<00:02, 334.89it/s]"
     ]
    },
    {
     "name": "stdout",
     "output_type": "stream",
     "text": [
      "epoch: \t 20 \t training loss: \t 0.31081539061432484\n"
     ]
    },
    {
     "name": "stderr",
     "output_type": "stream",
     "text": [
      "100%|██████████| 844/844 [00:02<00:00, 323.11it/s]\n",
      "  4%|▍         | 35/844 [00:00<00:02, 340.47it/s]"
     ]
    },
    {
     "name": "stdout",
     "output_type": "stream",
     "text": [
      "epoch: \t 21 \t training loss: \t 0.31066494969147923\n"
     ]
    },
    {
     "name": "stderr",
     "output_type": "stream",
     "text": [
      "100%|██████████| 844/844 [00:02<00:00, 326.58it/s]\n",
      "  4%|▍         | 32/844 [00:00<00:02, 313.63it/s]"
     ]
    },
    {
     "name": "stdout",
     "output_type": "stream",
     "text": [
      "epoch: \t 22 \t training loss: \t 0.30993958808905425\n"
     ]
    },
    {
     "name": "stderr",
     "output_type": "stream",
     "text": [
      "100%|██████████| 844/844 [00:02<00:00, 326.31it/s]\n",
      "  4%|▍         | 34/844 [00:00<00:02, 337.30it/s]"
     ]
    },
    {
     "name": "stdout",
     "output_type": "stream",
     "text": [
      "epoch: \t 23 \t training loss: \t 0.3080243199657631\n"
     ]
    },
    {
     "name": "stderr",
     "output_type": "stream",
     "text": [
      "100%|██████████| 844/844 [00:02<00:00, 317.57it/s]\n",
      "  4%|▍         | 34/844 [00:00<00:02, 339.16it/s]"
     ]
    },
    {
     "name": "stdout",
     "output_type": "stream",
     "text": [
      "epoch: \t 24 \t training loss: \t 0.3068501968201585\n"
     ]
    },
    {
     "name": "stderr",
     "output_type": "stream",
     "text": [
      "100%|██████████| 844/844 [00:02<00:00, 325.95it/s]\n",
      "  4%|▍         | 34/844 [00:00<00:02, 330.50it/s]"
     ]
    },
    {
     "name": "stdout",
     "output_type": "stream",
     "text": [
      "epoch: \t 25 \t training loss: \t 0.3060769135070638\n"
     ]
    },
    {
     "name": "stderr",
     "output_type": "stream",
     "text": [
      "100%|██████████| 844/844 [00:02<00:00, 323.02it/s]\n",
      "  4%|▍         | 34/844 [00:00<00:02, 336.73it/s]"
     ]
    },
    {
     "name": "stdout",
     "output_type": "stream",
     "text": [
      "epoch: \t 26 \t training loss: \t 0.3067941011163578\n"
     ]
    },
    {
     "name": "stderr",
     "output_type": "stream",
     "text": [
      "100%|██████████| 844/844 [00:02<00:00, 323.46it/s]\n",
      "  4%|▍         | 32/844 [00:00<00:02, 317.10it/s]"
     ]
    },
    {
     "name": "stdout",
     "output_type": "stream",
     "text": [
      "epoch: \t 27 \t training loss: \t 0.304991039460728\n"
     ]
    },
    {
     "name": "stderr",
     "output_type": "stream",
     "text": [
      "100%|██████████| 844/844 [00:02<00:00, 323.08it/s]\n",
      "  4%|▍         | 35/844 [00:00<00:02, 342.37it/s]"
     ]
    },
    {
     "name": "stdout",
     "output_type": "stream",
     "text": [
      "epoch: \t 28 \t training loss: \t 0.30454478496729764\n"
     ]
    },
    {
     "name": "stderr",
     "output_type": "stream",
     "text": [
      "100%|██████████| 844/844 [00:02<00:00, 323.60it/s]\n",
      "  4%|▍         | 34/844 [00:00<00:02, 334.55it/s]"
     ]
    },
    {
     "name": "stdout",
     "output_type": "stream",
     "text": [
      "epoch: \t 29 \t training loss: \t 0.3033937192588197\n"
     ]
    },
    {
     "name": "stderr",
     "output_type": "stream",
     "text": [
      "100%|██████████| 844/844 [00:02<00:00, 324.14it/s]\n",
      "  4%|▍         | 33/844 [00:00<00:02, 328.83it/s]"
     ]
    },
    {
     "name": "stdout",
     "output_type": "stream",
     "text": [
      "epoch: \t 30 \t training loss: \t 0.3051079549866406\n"
     ]
    },
    {
     "name": "stderr",
     "output_type": "stream",
     "text": [
      "100%|██████████| 844/844 [00:02<00:00, 327.04it/s]\n",
      "  4%|▎         | 31/844 [00:00<00:02, 306.69it/s]"
     ]
    },
    {
     "name": "stdout",
     "output_type": "stream",
     "text": [
      "epoch: \t 31 \t training loss: \t 0.30305439600129547\n"
     ]
    },
    {
     "name": "stderr",
     "output_type": "stream",
     "text": [
      "100%|██████████| 844/844 [00:02<00:00, 321.19it/s]\n",
      "  4%|▍         | 34/844 [00:00<00:02, 338.90it/s]"
     ]
    },
    {
     "name": "stdout",
     "output_type": "stream",
     "text": [
      "epoch: \t 32 \t training loss: \t 0.3001118243464503\n"
     ]
    },
    {
     "name": "stderr",
     "output_type": "stream",
     "text": [
      "100%|██████████| 844/844 [00:02<00:00, 324.09it/s]\n",
      "  4%|▎         | 31/844 [00:00<00:02, 304.22it/s]"
     ]
    },
    {
     "name": "stdout",
     "output_type": "stream",
     "text": [
      "epoch: \t 33 \t training loss: \t 0.3029637418652033\n"
     ]
    },
    {
     "name": "stderr",
     "output_type": "stream",
     "text": [
      "100%|██████████| 844/844 [00:02<00:00, 324.57it/s]\n",
      "  4%|▍         | 32/844 [00:00<00:02, 311.74it/s]"
     ]
    },
    {
     "name": "stdout",
     "output_type": "stream",
     "text": [
      "epoch: \t 34 \t training loss: \t 0.3007342285295657\n"
     ]
    },
    {
     "name": "stderr",
     "output_type": "stream",
     "text": [
      "100%|██████████| 844/844 [00:02<00:00, 323.88it/s]\n",
      "  4%|▍         | 34/844 [00:00<00:02, 333.21it/s]"
     ]
    },
    {
     "name": "stdout",
     "output_type": "stream",
     "text": [
      "epoch: \t 35 \t training loss: \t 0.3011572091747517\n"
     ]
    },
    {
     "name": "stderr",
     "output_type": "stream",
     "text": [
      "100%|██████████| 844/844 [00:02<00:00, 322.61it/s]\n",
      "  4%|▍         | 34/844 [00:00<00:02, 333.56it/s]"
     ]
    },
    {
     "name": "stdout",
     "output_type": "stream",
     "text": [
      "epoch: \t 36 \t training loss: \t 0.30008714797937475\n"
     ]
    },
    {
     "name": "stderr",
     "output_type": "stream",
     "text": [
      "100%|██████████| 844/844 [00:02<00:00, 327.72it/s]\n",
      "  4%|▍         | 35/844 [00:00<00:02, 342.35it/s]"
     ]
    },
    {
     "name": "stdout",
     "output_type": "stream",
     "text": [
      "epoch: \t 37 \t training loss: \t 0.30038019498342305\n"
     ]
    },
    {
     "name": "stderr",
     "output_type": "stream",
     "text": [
      "100%|██████████| 844/844 [00:02<00:00, 325.60it/s]\n",
      "  4%|▍         | 34/844 [00:00<00:02, 339.18it/s]"
     ]
    },
    {
     "name": "stdout",
     "output_type": "stream",
     "text": [
      "epoch: \t 38 \t training loss: \t 0.300600282265253\n"
     ]
    },
    {
     "name": "stderr",
     "output_type": "stream",
     "text": [
      "100%|██████████| 844/844 [00:02<00:00, 325.17it/s]\n",
      "  4%|▍         | 34/844 [00:00<00:02, 331.22it/s]"
     ]
    },
    {
     "name": "stdout",
     "output_type": "stream",
     "text": [
      "epoch: \t 39 \t training loss: \t 0.2989837886562562\n"
     ]
    },
    {
     "name": "stderr",
     "output_type": "stream",
     "text": [
      "100%|██████████| 844/844 [00:02<00:00, 322.17it/s]\n",
      "  4%|▍         | 32/844 [00:00<00:02, 311.49it/s]"
     ]
    },
    {
     "name": "stdout",
     "output_type": "stream",
     "text": [
      "epoch: \t 40 \t training loss: \t 0.2993065005177146\n"
     ]
    },
    {
     "name": "stderr",
     "output_type": "stream",
     "text": [
      "100%|██████████| 844/844 [00:02<00:00, 322.52it/s]\n",
      "  4%|▍         | 32/844 [00:00<00:02, 315.07it/s]"
     ]
    },
    {
     "name": "stdout",
     "output_type": "stream",
     "text": [
      "epoch: \t 41 \t training loss: \t 0.2990317377681133\n"
     ]
    },
    {
     "name": "stderr",
     "output_type": "stream",
     "text": [
      "100%|██████████| 844/844 [00:02<00:00, 325.70it/s]\n",
      "  4%|▍         | 35/844 [00:00<00:02, 341.33it/s]"
     ]
    },
    {
     "name": "stdout",
     "output_type": "stream",
     "text": [
      "epoch: \t 42 \t training loss: \t 0.29808079957149886\n"
     ]
    },
    {
     "name": "stderr",
     "output_type": "stream",
     "text": [
      "100%|██████████| 844/844 [00:02<00:00, 324.50it/s]\n",
      "  4%|▍         | 34/844 [00:00<00:02, 335.97it/s]"
     ]
    },
    {
     "name": "stdout",
     "output_type": "stream",
     "text": [
      "epoch: \t 43 \t training loss: \t 0.29863624721853793\n"
     ]
    },
    {
     "name": "stderr",
     "output_type": "stream",
     "text": [
      "100%|██████████| 844/844 [00:02<00:00, 323.55it/s]\n",
      "  4%|▍         | 33/844 [00:00<00:02, 322.55it/s]"
     ]
    },
    {
     "name": "stdout",
     "output_type": "stream",
     "text": [
      "epoch: \t 44 \t training loss: \t 0.29845027990144857\n"
     ]
    },
    {
     "name": "stderr",
     "output_type": "stream",
     "text": [
      "100%|██████████| 844/844 [00:02<00:00, 320.73it/s]\n",
      "  4%|▍         | 33/844 [00:00<00:02, 326.54it/s]"
     ]
    },
    {
     "name": "stdout",
     "output_type": "stream",
     "text": [
      "epoch: \t 45 \t training loss: \t 0.29753078154831136\n"
     ]
    },
    {
     "name": "stderr",
     "output_type": "stream",
     "text": [
      "100%|██████████| 844/844 [00:02<00:00, 322.48it/s]\n",
      "  4%|▍         | 34/844 [00:00<00:02, 335.83it/s]"
     ]
    },
    {
     "name": "stdout",
     "output_type": "stream",
     "text": [
      "epoch: \t 46 \t training loss: \t 0.29742487522627786\n"
     ]
    },
    {
     "name": "stderr",
     "output_type": "stream",
     "text": [
      "100%|██████████| 844/844 [00:02<00:00, 322.70it/s]\n",
      "  4%|▍         | 34/844 [00:00<00:02, 334.21it/s]"
     ]
    },
    {
     "name": "stdout",
     "output_type": "stream",
     "text": [
      "epoch: \t 47 \t training loss: \t 0.2966304723067448\n"
     ]
    },
    {
     "name": "stderr",
     "output_type": "stream",
     "text": [
      "100%|██████████| 844/844 [00:02<00:00, 321.05it/s]\n",
      "  4%|▍         | 32/844 [00:00<00:02, 315.67it/s]"
     ]
    },
    {
     "name": "stdout",
     "output_type": "stream",
     "text": [
      "epoch: \t 48 \t training loss: \t 0.2976453543609776\n"
     ]
    },
    {
     "name": "stderr",
     "output_type": "stream",
     "text": [
      "100%|██████████| 844/844 [00:02<00:00, 322.19it/s]\n",
      "  4%|▎         | 31/844 [00:00<00:02, 304.99it/s]"
     ]
    },
    {
     "name": "stdout",
     "output_type": "stream",
     "text": [
      "epoch: \t 49 \t training loss: \t 0.29817834906103485\n"
     ]
    },
    {
     "name": "stderr",
     "output_type": "stream",
     "text": [
      "100%|██████████| 844/844 [00:02<00:00, 323.47it/s]"
     ]
    },
    {
     "name": "stdout",
     "output_type": "stream",
     "text": [
      "epoch: \t 50 \t training loss: \t 0.2969233068633136\n"
     ]
    },
    {
     "name": "stderr",
     "output_type": "stream",
     "text": [
      "\n"
     ]
    }
   ],
   "source": [
    "torch.manual_seed(0)\n",
    "\n",
    "# batch size \n",
    "batch_size = 64\n",
    "\n",
    "# epochs\n",
    "n_epochs = 50\n",
    "\n",
    "for epoch in range(1, n_epochs+1):\n",
    "\n",
    "  train_loss = 0.0\n",
    "\n",
    "  permutation = torch.randperm(X_train.size()[0])\n",
    "\n",
    "  training_loss = []\n",
    "\n",
    "  for i in tqdm(range(0, X_train.size()[0], batch_size)):\n",
    "\n",
    "    indices = permutation[i:i+batch_size]\n",
    "    X_batch, y_batch = X_train[indices], y_train[indices]\n",
    "    # X_batch, y_batch = Variable(X_batch), Variable(y_batch)\n",
    "\n",
    "    if torch.cuda.is_available():\n",
    "      X_batch, y_batch = X_batch.cuda(), y_batch.cuda()\n",
    "\n",
    "    optimizer.zero_grad()\n",
    "    \n",
    "    outputs = model(X_batch.float())\n",
    "    loss = criterion(outputs, y_batch)\n",
    "\n",
    "    training_loss.append(loss.item())\n",
    "    loss.backward()\n",
    "    optimizer.step()\n",
    "\n",
    "  training_loss = np.average(training_loss)\n",
    "  print('epoch: \\t', epoch, '\\t training loss: \\t', training_loss)"
   ]
  },
  {
   "cell_type": "markdown",
   "metadata": {},
   "source": [
    "## Parameters after training"
   ]
  },
  {
   "cell_type": "code",
   "execution_count": null,
   "metadata": {
    "colab": {
     "base_uri": "https://localhost:8080/",
     "height": 1000
    },
    "colab_type": "code",
    "id": "j-UdNWllennz",
    "outputId": "9b9b4606-b52a-41a6-a155-5c6ff4c46abf"
   },
   "outputs": [
    {
     "name": "stdout",
     "output_type": "stream",
     "text": [
      "Model's state_dict:\n",
      "cnn_layers.0.weight \t torch.Size([4, 1, 3, 3])\n",
      "cnn_layers.0.bias \t torch.Size([4])\n",
      "cnn_layers.1.weight \t torch.Size([4])\n",
      "cnn_layers.1.bias \t torch.Size([4])\n",
      "cnn_layers.1.running_mean \t torch.Size([4])\n",
      "cnn_layers.1.running_var \t torch.Size([4])\n",
      "cnn_layers.1.num_batches_tracked \t torch.Size([])\n",
      "cnn_layers.4.weight \t torch.Size([4, 4, 3, 3])\n",
      "cnn_layers.4.bias \t torch.Size([4])\n",
      "cnn_layers.5.weight \t torch.Size([4])\n",
      "cnn_layers.5.bias \t torch.Size([4])\n",
      "cnn_layers.5.running_mean \t torch.Size([4])\n",
      "cnn_layers.5.running_var \t torch.Size([4])\n",
      "cnn_layers.5.num_batches_tracked \t torch.Size([])\n",
      "linear_layers.0.weight \t torch.Size([10, 196])\n",
      "linear_layers.0.bias \t torch.Size([10])\n",
      "Optimizer's state_dict:\n",
      "state \t {0: {'step': 42200, 'exp_avg': tensor([[[[-6.2342e-03, -2.9614e-03,  4.6885e-04],\n",
      "          [-3.8649e-03, -2.2751e-03, -6.0207e-04],\n",
      "          [-2.1514e-03, -3.5340e-04,  2.8450e-03]]],\n",
      "\n",
      "\n",
      "        [[[ 7.5527e-04, -2.4967e-05,  7.6123e-04],\n",
      "          [ 7.9450e-04, -1.4289e-03, -5.5692e-04],\n",
      "          [-9.5208e-04, -1.6633e-03, -8.0864e-04]]],\n",
      "\n",
      "\n",
      "        [[[-1.3294e-04, -3.0517e-04, -1.1842e-03],\n",
      "          [-3.4293e-03, -1.3370e-03,  7.9740e-04],\n",
      "          [ 4.2660e-05,  1.0780e-03,  3.6238e-04]]],\n",
      "\n",
      "\n",
      "        [[[-2.6304e-04,  1.7583e-03,  9.3996e-05],\n",
      "          [ 1.3708e-03,  7.7667e-04,  1.2314e-03],\n",
      "          [ 2.2730e-03,  1.8029e-03,  1.3352e-03]]]], device='cuda:0'), 'exp_avg_sq': tensor([[[[5.1341e-04, 6.6268e-04, 8.1314e-04],\n",
      "          [3.7137e-04, 2.7198e-04, 4.3803e-04],\n",
      "          [1.1688e-04, 7.7866e-05, 2.9217e-04]]],\n",
      "\n",
      "\n",
      "        [[[3.1779e-05, 4.5880e-05, 8.2151e-05],\n",
      "          [1.7963e-05, 4.3879e-05, 8.3467e-05],\n",
      "          [3.5692e-05, 4.9047e-05, 8.1266e-05]]],\n",
      "\n",
      "\n",
      "        [[[7.2735e-04, 9.2552e-04, 1.0077e-03],\n",
      "          [7.2779e-04, 8.4869e-04, 9.2699e-04],\n",
      "          [5.7205e-04, 6.9971e-04, 7.8865e-04]]],\n",
      "\n",
      "\n",
      "        [[[3.7078e-04, 3.4001e-04, 3.0966e-04],\n",
      "          [3.3094e-04, 3.5177e-04, 3.1882e-04],\n",
      "          [3.0959e-04, 3.5053e-04, 3.3090e-04]]]], device='cuda:0')}, 1: {'step': 42200, 'exp_avg': tensor([ 2.3462e-11, -2.0742e-11,  7.2411e-11, -2.1290e-11], device='cuda:0'), 'exp_avg_sq': tensor([6.3292e-20, 1.7878e-20, 4.5787e-20, 2.4682e-20], device='cuda:0')}, 2: {'step': 42200, 'exp_avg': tensor([ 0.0005,  0.0065, -0.0032, -0.0195], device='cuda:0'), 'exp_avg_sq': tensor([0.0007, 0.0018, 0.0043, 0.0030], device='cuda:0')}, 3: {'step': 42200, 'exp_avg': tensor([ 0.0032, -0.0010,  0.0083, -0.0188], device='cuda:0'), 'exp_avg_sq': tensor([0.0010, 0.0003, 0.0003, 0.0011], device='cuda:0')}, 4: {'step': 42200, 'exp_avg': tensor([[[[ 8.5706e-04,  9.8313e-04, -7.7524e-04],\n",
      "          [-2.6742e-04, -9.1785e-04, -4.0547e-04],\n",
      "          [ 4.1606e-03,  3.1875e-03,  1.7583e-03]],\n",
      "\n",
      "         [[ 2.1084e-03,  1.4394e-04,  2.3509e-04],\n",
      "          [-6.2986e-04,  9.9048e-05, -9.3144e-04],\n",
      "          [-4.0228e-03, -1.0142e-03, -9.2384e-04]],\n",
      "\n",
      "         [[ 2.0477e-03, -1.1110e-03, -1.2477e-03],\n",
      "          [-1.7619e-03,  7.3071e-04, -1.1431e-03],\n",
      "          [-1.8858e-03,  9.7177e-04, -2.2873e-03]],\n",
      "\n",
      "         [[ 5.6313e-04, -1.6508e-03,  4.8755e-03],\n",
      "          [ 1.6250e-03, -9.3193e-04,  6.1890e-03],\n",
      "          [-1.5647e-03, -3.0965e-04,  6.9479e-03]]],\n",
      "\n",
      "\n",
      "        [[[-1.9547e-03, -3.0248e-04,  2.3779e-04],\n",
      "          [ 1.2683e-03,  1.1380e-03,  1.4385e-04],\n",
      "          [-8.1567e-04,  1.0686e-03, -3.1713e-04]],\n",
      "\n",
      "         [[-3.4715e-03, -2.7153e-03, -1.5964e-03],\n",
      "          [-5.5913e-03, -5.8564e-03, -4.6443e-03],\n",
      "          [-5.6850e-03, -6.1476e-03, -5.1053e-03]],\n",
      "\n",
      "         [[-3.4029e-03, -1.5954e-03, -6.6315e-04],\n",
      "          [-3.9569e-03, -8.8949e-04, -2.9782e-04],\n",
      "          [-2.6747e-03,  7.7397e-04,  2.8740e-04]],\n",
      "\n",
      "         [[-1.2422e-03, -9.2966e-04, -1.0674e-03],\n",
      "          [ 3.7174e-04, -1.2539e-03, -2.5584e-03],\n",
      "          [ 7.8858e-04, -1.5290e-03, -2.5143e-03]]],\n",
      "\n",
      "\n",
      "        [[[ 1.2722e-03,  1.3322e-04,  3.5532e-04],\n",
      "          [-3.3303e-04,  6.9696e-04,  1.1228e-03],\n",
      "          [ 2.7100e-03,  8.4203e-04,  5.6834e-04]],\n",
      "\n",
      "         [[-3.1496e-03,  1.7250e-03,  1.4720e-03],\n",
      "          [ 6.0234e-05,  3.6013e-03,  2.9965e-03],\n",
      "          [ 6.5359e-04,  3.6626e-03,  3.7491e-03]],\n",
      "\n",
      "         [[-6.7370e-04, -2.7027e-04, -1.7818e-03],\n",
      "          [ 5.8185e-04,  1.3167e-03, -1.1079e-03],\n",
      "          [ 2.6072e-03,  2.3904e-03,  6.7119e-04]],\n",
      "\n",
      "         [[-3.3317e-03,  1.1787e-04,  3.3995e-04],\n",
      "          [-1.0726e-03,  1.0565e-03, -1.2850e-04],\n",
      "          [ 6.0399e-04,  1.7760e-03, -7.6091e-04]]],\n",
      "\n",
      "\n",
      "        [[[ 3.9598e-03,  9.8352e-04,  5.4039e-04],\n",
      "          [-6.2956e-04, -1.1467e-03, -1.2680e-03],\n",
      "          [-1.0231e-03,  3.2164e-04, -1.7765e-03]],\n",
      "\n",
      "         [[ 1.6851e-03, -1.1838e-03, -1.5315e-03],\n",
      "          [-2.6889e-03, -3.9364e-03, -2.7961e-03],\n",
      "          [-4.2310e-03, -5.4237e-03, -1.1206e-03]],\n",
      "\n",
      "         [[ 2.2635e-03,  2.5596e-03,  2.2314e-03],\n",
      "          [-3.3003e-03, -9.9108e-04, -7.7398e-05],\n",
      "          [-1.4170e-03, -8.7867e-04,  3.4926e-05]],\n",
      "\n",
      "         [[ 2.4003e-04,  1.7918e-04,  2.5619e-04],\n",
      "          [-8.1755e-04, -1.9031e-03, -1.2429e-04],\n",
      "          [-1.0872e-03, -3.6518e-03, -5.4779e-06]]]], device='cuda:0'), 'exp_avg_sq': tensor([[[[1.6046e-05, 1.1203e-05, 1.3030e-05],\n",
      "          [1.0976e-05, 3.5256e-05, 5.9535e-05],\n",
      "          [8.6547e-05, 9.7191e-05, 9.5827e-05]],\n",
      "\n",
      "         [[1.9095e-04, 2.4727e-04, 3.9226e-04],\n",
      "          [3.2607e-04, 2.9303e-04, 4.1416e-04],\n",
      "          [3.7207e-04, 3.2262e-04, 4.4093e-04]],\n",
      "\n",
      "         [[5.8953e-05, 5.4972e-05, 1.2781e-04],\n",
      "          [6.5960e-05, 3.9137e-05, 1.2086e-04],\n",
      "          [8.3706e-05, 4.6702e-05, 1.1429e-04]],\n",
      "\n",
      "         [[9.5211e-06, 3.6453e-05, 7.5478e-05],\n",
      "          [4.6771e-05, 7.9972e-05, 8.8543e-05],\n",
      "          [6.7412e-05, 1.2630e-04, 9.7691e-05]]],\n",
      "\n",
      "\n",
      "        [[[4.2592e-05, 2.1976e-05, 1.7117e-05],\n",
      "          [5.7461e-05, 6.7034e-05, 1.0315e-04],\n",
      "          [8.0343e-05, 7.5533e-05, 7.4590e-05]],\n",
      "\n",
      "         [[8.3934e-04, 8.0071e-04, 9.4789e-04],\n",
      "          [9.3718e-04, 1.0210e-03, 1.0304e-03],\n",
      "          [7.4001e-04, 8.5029e-04, 8.2968e-04]],\n",
      "\n",
      "         [[2.1419e-04, 6.8761e-05, 8.1844e-05],\n",
      "          [1.5456e-04, 7.2469e-05, 6.0923e-05],\n",
      "          [1.1268e-04, 5.0104e-05, 4.2546e-05]],\n",
      "\n",
      "         [[3.9486e-05, 3.9464e-05, 6.3146e-05],\n",
      "          [3.8880e-05, 7.3563e-05, 1.3299e-04],\n",
      "          [6.8846e-05, 8.6332e-05, 1.1090e-04]]],\n",
      "\n",
      "\n",
      "        [[[2.8808e-05, 2.6517e-05, 2.3279e-05],\n",
      "          [9.3408e-05, 7.5039e-05, 6.7724e-05],\n",
      "          [3.8816e-05, 4.1584e-05, 4.2077e-05]],\n",
      "\n",
      "         [[3.1644e-04, 2.2708e-04, 2.6730e-04],\n",
      "          [2.3499e-04, 2.0391e-04, 1.9695e-04],\n",
      "          [2.1189e-04, 2.0647e-04, 2.4571e-04]],\n",
      "\n",
      "         [[3.9688e-05, 4.3694e-05, 6.1497e-05],\n",
      "          [3.3963e-05, 2.4430e-05, 1.7299e-05],\n",
      "          [6.4408e-05, 5.1362e-05, 5.9416e-05]],\n",
      "\n",
      "         [[1.0451e-04, 3.7254e-05, 6.0816e-05],\n",
      "          [9.7041e-05, 5.6606e-05, 1.0497e-04],\n",
      "          [4.2685e-05, 2.6497e-05, 6.9685e-05]]],\n",
      "\n",
      "\n",
      "        [[[8.3958e-05, 6.1119e-05, 3.4366e-05],\n",
      "          [9.5819e-05, 8.6723e-05, 8.9189e-05],\n",
      "          [2.5924e-05, 3.1382e-05, 7.1410e-05]],\n",
      "\n",
      "         [[2.8536e-04, 2.2318e-04, 3.0044e-04],\n",
      "          [3.0321e-04, 1.9321e-04, 2.1898e-04],\n",
      "          [4.2029e-04, 2.6584e-04, 1.1670e-04]],\n",
      "\n",
      "         [[6.3157e-05, 4.8044e-05, 8.6418e-05],\n",
      "          [5.2260e-05, 2.6401e-05, 8.0911e-05],\n",
      "          [8.8513e-05, 5.1974e-05, 8.8263e-05]],\n",
      "\n",
      "         [[8.5906e-05, 6.4169e-05, 2.9514e-05],\n",
      "          [1.0201e-04, 6.5822e-05, 1.8810e-05],\n",
      "          [1.2662e-04, 1.0968e-04, 9.9409e-06]]]], device='cuda:0')}, 5: {'step': 42200, 'exp_avg': tensor([ 4.9442e-10, -2.6220e-10, -7.3735e-10,  1.9846e-10], device='cuda:0'), 'exp_avg_sq': tensor([2.3456e-18, 2.0416e-18, 1.4697e-18, 2.2426e-18], device='cuda:0')}, 6: {'step': 42200, 'exp_avg': tensor([ 0.0025, -0.0200, -0.0313, -0.0208], device='cuda:0'), 'exp_avg_sq': tensor([0.0535, 0.0789, 0.0970, 0.0498], device='cuda:0')}, 7: {'step': 42200, 'exp_avg': tensor([ 0.1200,  0.0066, -0.0542, -0.0141], device='cuda:0'), 'exp_avg_sq': tensor([0.0485, 0.0611, 0.1051, 0.0535], device='cuda:0')}, 8: {'step': 42200, 'exp_avg': tensor([[ 4.2844e-04,  1.2973e-03,  2.7348e-03,  ...,  1.2526e-04,\n",
      "          9.7681e-04,  8.6795e-04],\n",
      "        [-2.8819e-05,  4.1153e-05, -1.8397e-04,  ..., -8.0593e-05,\n",
      "         -6.4912e-05, -1.8700e-06],\n",
      "        [ 1.3476e-04, -7.8588e-04, -8.0812e-04,  ..., -2.2477e-05,\n",
      "         -6.3752e-04,  6.2931e-04],\n",
      "        ...,\n",
      "        [ 1.0594e-06, -1.9543e-05, -1.8483e-05,  ...,  8.7888e-05,\n",
      "          4.3889e-05, -7.3398e-05],\n",
      "        [ 6.0110e-05,  5.2785e-05,  2.1138e-04,  ...,  1.1141e-04,\n",
      "          7.1889e-05,  1.1203e-04],\n",
      "        [-6.4390e-05, -1.4910e-05, -2.3680e-05,  ..., -2.4553e-04,\n",
      "         -4.2699e-05,  3.2629e-05]], device='cuda:0'), 'exp_avg_sq': tensor([[1.7170e-06, 2.5752e-05, 3.9369e-05,  ..., 2.8498e-06, 1.2571e-05,\n",
      "         1.1880e-05],\n",
      "        [1.9461e-07, 2.8069e-07, 2.0508e-06,  ..., 1.0075e-06, 1.5679e-06,\n",
      "         5.7527e-07],\n",
      "        [2.0373e-06, 1.8491e-05, 7.7029e-05,  ..., 2.0057e-05, 1.9963e-05,\n",
      "         1.6687e-05],\n",
      "        ...,\n",
      "        [5.9697e-07, 1.0965e-08, 1.1244e-08,  ..., 9.5773e-07, 9.3168e-07,\n",
      "         1.2038e-06],\n",
      "        [3.2774e-07, 1.2388e-06, 2.5459e-06,  ..., 5.7242e-07, 1.3298e-06,\n",
      "         1.2094e-06],\n",
      "        [4.1943e-07, 7.5804e-09, 1.4977e-08,  ..., 1.7528e-06, 1.4111e-06,\n",
      "         9.1116e-07]], device='cuda:0')}, 9: {'step': 42200, 'exp_avg': tensor([ 3.8225e-03,  1.4178e-05,  1.1536e-03,  2.0914e-03, -9.0251e-03,\n",
      "        -8.6936e-05,  1.9730e-03,  1.0495e-04,  4.8060e-04, -5.2813e-04],\n",
      "       device='cuda:0'), 'exp_avg_sq': tensor([4.2907e-04, 4.0786e-05, 4.8347e-04, 2.7310e-04, 5.3619e-04, 7.9284e-05,\n",
      "        8.5578e-04, 1.2928e-04, 5.8941e-05, 8.7522e-05], device='cuda:0')}}\n",
      "param_groups \t [{'lr': 0.01, 'betas': (0.9, 0.999), 'eps': 1e-08, 'weight_decay': 0, 'amsgrad': False, 'params': [0, 1, 2, 3, 4, 5, 6, 7, 8, 9]}]\n"
     ]
    }
   ],
   "source": [
    "print(\"Model's state_dict:\")\n",
    "for param_tensor in model.state_dict():\n",
    "    print(param_tensor, \"\\t\", model.state_dict()[param_tensor].size())\n",
    "\n",
    "# Print optimizer's state_dict\n",
    "print(\"Optimizer's state_dict:\")\n",
    "for var_name in optimizer.state_dict():\n",
    "    print(var_name, \"\\t\", optimizer.state_dict()[var_name])"
   ]
  },
  {
   "cell_type": "markdown",
   "metadata": {},
   "source": [
    "## Save the final model"
   ]
  },
  {
   "cell_type": "code",
   "execution_count": null,
   "metadata": {
    "colab": {},
    "colab_type": "code",
    "id": "HOEInd2ggC50"
   },
   "outputs": [],
   "source": [
    "PATH = \"state_dict_model.pt\"\n",
    "torch.save(model.state_dict(), PATH)"
   ]
  },
  {
   "cell_type": "markdown",
   "metadata": {},
   "source": [
    "## Training accuracy"
   ]
  },
  {
   "cell_type": "code",
   "execution_count": null,
   "metadata": {
    "colab": {
     "base_uri": "https://localhost:8080/",
     "height": 51
    },
    "colab_type": "code",
    "id": "ac79GPDSvH6l",
    "outputId": "314fbb97-becb-44c7-fe81-8243b99ce60a"
   },
   "outputs": [
    {
     "name": "stderr",
     "output_type": "stream",
     "text": [
      "100%|██████████| 844/844 [00:01<00:00, 799.73it/s]\n"
     ]
    },
    {
     "name": "stdout",
     "output_type": "stream",
     "text": [
      "training accuracy: \t 0.896129541864139\n"
     ]
    }
   ],
   "source": [
    "prediction = []\n",
    "target = []\n",
    "\n",
    "permutation = torch.randperm(X_train.size()[0])\n",
    "\n",
    "training_loss = []\n",
    "\n",
    "for i in tqdm(range(0, X_train.size()[0], batch_size)):\n",
    "\n",
    "  indices = permutation[i:i+batch_size]\n",
    "  X_batch, y_batch = X_train[indices], y_train[indices]\n",
    "  # X_batch, y_batch = Variable(X_batch), Variable(y_batch)\n",
    "\n",
    "  if torch.cuda.is_available():\n",
    "    X_batch, y_batch = X_batch.cuda(), y_batch.cuda()\n",
    "\n",
    "  with torch.no_grad():\n",
    "    output = model(X_batch.float().cuda())\n",
    "\n",
    "  softmax = torch.exp(output).cpu()\n",
    "  prob = list(softmax.numpy())\n",
    "  predictions = np.argmax(prob, axis=1)\n",
    "  prediction.append(predictions)\n",
    "  target.append(y_batch.cpu())\n",
    "\n",
    "accuracy = []\n",
    "for i in range(len(prediction)):\n",
    "  accuracy.append(accuracy_score(target[i], prediction[i]))\n",
    "print(\"training accuracy: \\t\", np.average(accuracy))"
   ]
  },
  {
   "cell_type": "markdown",
   "metadata": {},
   "source": [
    "## Validation accuracy"
   ]
  },
  {
   "cell_type": "code",
   "execution_count": null,
   "metadata": {
    "colab": {
     "base_uri": "https://localhost:8080/",
     "height": 51
    },
    "colab_type": "code",
    "id": "6Qcw4nApq3DP",
    "outputId": "9e32d83e-131d-4de3-c717-2b9fe986ca19"
   },
   "outputs": [
    {
     "name": "stderr",
     "output_type": "stream",
     "text": [
      "100%|██████████| 94/94 [00:00<00:00, 758.26it/s]"
     ]
    },
    {
     "name": "stdout",
     "output_type": "stream",
     "text": [
      "validation accuracy: \t 0.8901817375886524\n"
     ]
    },
    {
     "name": "stderr",
     "output_type": "stream",
     "text": [
      "\n"
     ]
    }
   ],
   "source": [
    "\n",
    "\n",
    "prediction = []\n",
    "target = []\n",
    "\n",
    "permutation = torch.randperm(X_val.size()[0])\n",
    "\n",
    "training_loss = []\n",
    "\n",
    "for i in tqdm(range(0, X_val.size()[0], batch_size)):\n",
    "\n",
    "  indices = permutation[i:i+batch_size]\n",
    "  X_batch, y_batch = X_val[indices], y_val[indices]\n",
    "  # X_batch, y_batch = Variable(X_batch), Variable(y_batch)\n",
    "\n",
    "  if torch.cuda.is_available():\n",
    "    X_batch, y_batch = X_batch.cuda(), y_batch.cuda()\n",
    "\n",
    "  with torch.no_grad():\n",
    "    output = model(X_batch.float().cuda())\n",
    "\n",
    "  softmax = torch.exp(output).cpu()\n",
    "  prob = list(softmax.numpy())\n",
    "  predictions = np.argmax(prob, axis=1)\n",
    "  prediction.append(predictions)\n",
    "  target.append(y_batch.cpu())\n",
    "\n",
    "accuracy = []\n",
    "for i in range(len(prediction)):\n",
    "  accuracy.append(accuracy_score(target[i], prediction[i]))\n",
    "print(\"validation accuracy: \\t\", np.average(accuracy))"
   ]
  },
  {
   "cell_type": "code",
   "execution_count": null,
   "metadata": {
    "colab": {
     "base_uri": "https://localhost:8080/",
     "height": 88
    },
    "colab_type": "code",
    "id": "mP3ku3IpxLmM",
    "outputId": "cce141c9-b66e-436c-a53e-b69f3c9c9cf4"
   },
   "outputs": [
    {
     "name": "stderr",
     "output_type": "stream",
     "text": [
      "/usr/local/lib/python3.6/dist-packages/ipykernel_launcher.py:2: UserWarning: The given NumPy array is not writeable, and PyTorch does not support non-writeable tensors. This means you can write to the underlying (supposedly non-writeable) NumPy array using the tensor. You may want to copy the array to protect its data or make it writeable before converting it to a tensor. This type of warning will be suppressed for the rest of this program. (Triggered internally at  /pytorch/torch/csrc/utils/tensor_numpy.cpp:141.)\n",
      "  \n"
     ]
    },
    {
     "data": {
      "text/plain": [
       "(torch.Size([10000, 1, 28, 28]), torch.Size([10000]))"
      ]
     },
     "execution_count": 19,
     "metadata": {
      "tags": []
     },
     "output_type": "execute_result"
    }
   ],
   "source": [
    "X_test = X_test.reshape(10000, 1, 28, 28)\n",
    "X_test = torch.from_numpy(X_test)\n",
    "\n",
    "y_test = y_test.astype(int)\n",
    "y_test = torch.from_numpy(y_test)\n",
    "\n",
    "X_test.shape, y_test.shape"
   ]
  },
  {
   "cell_type": "markdown",
   "metadata": {},
   "source": [
    "## Testing accuracy"
   ]
  },
  {
   "cell_type": "code",
   "execution_count": null,
   "metadata": {
    "colab": {
     "base_uri": "https://localhost:8080/",
     "height": 34
    },
    "colab_type": "code",
    "id": "XmiqnPVxxHFf",
    "outputId": "51b5c2b2-9b0b-4806-bbe7-19d4152ba6ad"
   },
   "outputs": [
    {
     "name": "stdout",
     "output_type": "stream",
     "text": [
      "Accuracy on the test set:  0.884\n"
     ]
    }
   ],
   "source": [
    "with torch.no_grad():\n",
    "  output = model(X_test.float().cuda())\n",
    "\n",
    "softmax = torch.exp(output).cpu()\n",
    "prob = list(softmax.numpy())\n",
    "predictions = np.argmax(prob, axis=1)\n",
    "\n",
    "print(\"Accuracy on the test set: \", accuracy_score(y_test, predictions))"
   ]
  }
 ],
 "metadata": {
  "accelerator": "GPU",
  "colab": {
   "collapsed_sections": [],
   "name": "Model.ipynb",
   "provenance": []
  },
  "kernelspec": {
   "display_name": "Python 3",
   "language": "python",
   "name": "python3"
  },
  "language_info": {
   "codemirror_mode": {
    "name": "ipython",
    "version": 3
   },
   "file_extension": ".py",
   "mimetype": "text/x-python",
   "name": "python",
   "nbconvert_exporter": "python",
   "pygments_lexer": "ipython3",
   "version": "3.8.3"
  }
 },
 "nbformat": 4,
 "nbformat_minor": 1
}
